{
 "cells": [
  {
   "cell_type": "code",
   "execution_count": 1,
   "metadata": {},
   "outputs": [],
   "source": [
    "# importation de pandas\n",
    "from pandas import read_csv, concat\n",
    "import numpy as np\n",
    "import matplotlib.pyplot as plt \n",
    "import pandas as pd  \n",
    "import seaborn as sns \n",
    "from sklearn.model_selection import train_test_split\n",
    "from IPython.display import display\n",
    "from sklearn.linear_model import LinearRegression\n",
    "from sklearn.metrics import mean_squared_error\n",
    "import xgboost as xgb\n",
    "from xgboost import XGBRegressor\n",
    "from xgboost import plot_importance"
   ]
  },
  {
   "cell_type": "code",
   "execution_count": 2,
   "metadata": {},
   "outputs": [],
   "source": [
    "# insertion du fichier csv train dans un dataframe\n",
    "df_train_full = read_csv( './csv/train.csv' )\n",
    "train_boost = read_csv( './csv/train.csv' )\n",
    "df_test = read_csv('./csv/test.csv')\n",
    "y_train = train_boost.SalePrice.values.astype(int)\n",
    "\n",
    "pd.options.display.max_columns = None"
   ]
  },
  {
   "cell_type": "code",
   "execution_count": 3,
   "metadata": {},
   "outputs": [],
   "source": [
    "# utilisation de fillna pour changer toutes les valeurs nan d'une colonne en 0\n",
    "df_train_full['Alley'] = df_train_full['Alley'].fillna(\"none\")\n",
    "df_test['Alley'] = df_test['Alley'].fillna(\"none\")\n",
    "train_boost['Alley'] = train_boost['Alley'].fillna(\"none\")\n",
    "\n",
    "df_train_full['FireplaceQu'] = df_train_full['FireplaceQu'].fillna(\"none\")\n",
    "df_test['FireplaceQu'] = df_test['FireplaceQu'].fillna(\"none\")\n",
    "train_boost['FireplaceQu'] = train_boost['FireplaceQu'].fillna(\"none\")\n",
    "\n",
    "df_train_full['PoolQC'] = df_train_full['PoolQC'].fillna(\"none\")\n",
    "df_test['PoolQC'] = df_test['PoolQC'].fillna(\"none\")\n",
    "train_boost['PoolQC'] = train_boost['PoolQC'].fillna(\"none\")\n",
    "\n",
    "df_train_full['Fence'] = df_train_full['Fence'].fillna(\"none\")\n",
    "df_test['Fence'] = df_test['Fence'].fillna(\"none\")\n",
    "train_boost['Fence'] = train_boost['Fence'].fillna(\"none\")\n",
    "\n",
    "df_train_full['MiscFeature'] = df_train_full['MiscFeature'].fillna(\"none\")\n",
    "df_test['MiscFeature'] = df_test['MiscFeature'].fillna(\"none\")\n",
    "train_boost['MiscFeature'] = train_boost['MiscFeature'].fillna(\"none\")"
   ]
  },
  {
   "cell_type": "code",
   "execution_count": 4,
   "metadata": {},
   "outputs": [],
   "source": [
    "df_train_full = df_train_full.fillna(0)\n",
    "df_test = df_test.fillna(0)\n",
    "train_boost = train_boost.fillna(0)\n",
    "\n",
    "del train_boost['SalePrice']\n",
    "del train_boost['Id']"
   ]
  },
  {
   "cell_type": "code",
   "execution_count": 5,
   "metadata": {},
   "outputs": [],
   "source": [
    "# différenciation catégorielle / quantitative train full\n",
    "cat_train = df_train_full.select_dtypes(include=['object'])\n",
    "x_quant_train = df_train_full.select_dtypes(exclude=['object'])\n",
    "\n",
    "# différenciation catégorielle / quantitative test\n",
    "cat_test = df_test.select_dtypes(include=['object'])\n",
    "x_quant_test = df_test.select_dtypes(exclude=['object'])\n",
    "\n",
    "cat_all = cat_train.append(cat_test)\n",
    "x_cat_all = pd.get_dummies(cat_all)\n",
    "x_cat_train = x_cat_all[:1460]\n",
    "x_cat_test = x_cat_all[1460:]\n",
    "\n",
    "df_train_full = pd.concat([x_cat_train, x_quant_train], axis=1)\n",
    "df_test = pd.concat([x_cat_test, x_quant_test], axis=1)\n",
    "\n",
    "# différenciation catégorielle / quantitative boost\n",
    "cat = train_boost.select_dtypes(include=['object'])\n",
    "x_quant = train_boost.select_dtypes(exclude=['object'])\n",
    "x_cat = pd.get_dummies(cat)\n",
    "train_boost = pd.concat([x_cat, x_quant], axis=1)"
   ]
  },
  {
   "cell_type": "markdown",
   "metadata": {},
   "source": [
    "xgb = XGBRegressor()\n",
    "\n",
    "lin_reg = xgb.fit(train_boost, y_train)"
   ]
  },
  {
   "cell_type": "markdown",
   "metadata": {},
   "source": [
    "var_gain = xgb.get_booster().get_score(importance_type='gain')\n",
    "var_gain"
   ]
  },
  {
   "cell_type": "markdown",
   "metadata": {},
   "source": [
    "var_order = sorted(var_gain, key=lambda colonnes: colonnes[1])\n",
    "# var_order[1:30]\n",
    "train_full = pd.concat([df_train_full[var_order], df_train_full['SalePrice']], axis=1)\n",
    "train_full"
   ]
  },
  {
   "cell_type": "markdown",
   "metadata": {},
   "source": [
    "#etude de la correlation\n",
    "fig = plt.figure(1, figsize = (20, 20))\n",
    "matrice_corr = train_full.corr().round(1)\n",
    "sns.heatmap(data = matrice_corr)"
   ]
  },
  {
   "cell_type": "code",
   "execution_count": 8,
   "metadata": {},
   "outputs": [
    {
     "data": {
      "text/plain": [
       "LinearRegression(copy_X=True, fit_intercept=True, n_jobs=None,\n",
       "         normalize=False)"
      ]
     },
     "execution_count": 8,
     "metadata": {},
     "output_type": "execute_result"
    }
   ],
   "source": [
    "#créer un objet reg lin\n",
    "modeleReg = LinearRegression()\n",
    "train_full = df_train_full\n",
    "\n",
    "#créer y et X\n",
    "list_var = train_full.columns.drop(\"SalePrice\")\n",
    "y = train_full.SalePrice\n",
    "X = train_full[list_var]\n",
    "\n",
    "modeleReg.fit(X,y)"
   ]
  },
  {
   "cell_type": "markdown",
   "metadata": {},
   "source": [
    "X = df_train_full[list_var]\n",
    "X"
   ]
  },
  {
   "cell_type": "code",
   "execution_count": 11,
   "metadata": {
    "collapsed": true
   },
   "outputs": [
    {
     "name": "stdout",
     "output_type": "stream",
     "text": [
      "-110806.00073967813\n",
      "[ 1.63633376e-07 -2.03370305e+04  1.23773438e+04  1.97577481e+03\n",
      "  4.64774491e+03  1.33616670e+03 -1.66319557e+04  1.66319557e+04\n",
      "  6.82156448e+02 -6.80805205e+01 -6.14075939e+02 -3.09821774e+03\n",
      "  1.85755646e+03  2.66371311e+03 -1.42305181e+03 -4.08645742e+02\n",
      "  7.15914850e+03 -1.17873818e+04  5.03687908e+03 -2.71932208e-07\n",
      "  1.83076274e+04 -1.83076274e+04  3.83436845e+03  1.16857963e+04\n",
      " -4.06661561e+03 -1.36539300e+04  2.20038086e+03  1.16081366e+04\n",
      "  1.90655440e+04 -3.06736806e+04  3.07439878e+03  1.01666857e+04\n",
      "  3.63237733e+02 -2.75569275e+03 -1.15166748e+04 -7.17153993e+03\n",
      "  1.47437130e+04 -1.84682388e+04 -8.21258648e+03 -8.98468679e+03\n",
      " -4.07508338e+03 -1.80341529e+04 -1.43216837e+04  1.64897970e+04\n",
      " -1.44753593e+04  2.83505470e+04  2.13617317e+04 -1.12819866e+04\n",
      " -5.84976378e+03 -8.00904613e+03  1.92300702e+02  5.80105937e+02\n",
      "  4.22221209e+04 -7.25672481e+03  2.86858166e+03 -6.02793678e+03\n",
      "  1.08875304e+03  1.03078713e+04  4.29586441e+03  9.05688863e+03\n",
      " -2.16602424e+04  6.73584065e+03 -9.36160090e+03  5.56456210e+03\n",
      "  4.53819549e+04  4.03117530e+04  3.55135161e+04  8.95170240e+04\n",
      " -1.93045299e+05 -8.34635219e+04  2.25496953e+04  4.32348773e+04\n",
      "  9.24450115e+03  5.79366403e+03  1.62018395e+03 -1.03949896e+04\n",
      " -6.26335956e+03  1.32242065e+03  1.32549865e+04  6.59354923e+03\n",
      " -1.56664589e+04 -8.29003073e+03 -4.53351174e+03  2.40986196e+03\n",
      "  4.90918305e+03 -2.48458494e+04 -1.58535451e+04 -1.26483693e+04\n",
      " -1.61337192e+04 -5.04215775e+03  7.45236408e+04 -5.24008606e+05\n",
      "  4.69117445e+04  1.42414953e+05  1.11408573e+05  3.48959804e+04\n",
      "  4.84010509e+04  3.88627205e+04  1.01113584e+05 -8.73114914e-11\n",
      "  1.03602024e+04 -1.49620748e+04  6.87264259e+03  1.76594040e+04\n",
      " -4.69397730e+03 -2.13354483e+03 -2.96602369e+03 -1.31291868e+04\n",
      "  3.86302936e+03 -3.85958155e+03  8.09126055e+03  2.65050816e+03\n",
      " -4.15349616e+03 -3.88935195e+03  2.90189949e+02 -7.20319804e-10\n",
      " -5.32127315e+03  7.13639682e+03 -1.57524624e+02 -1.04358912e+03\n",
      " -4.69397730e+03  7.88087523e+03  3.24476974e+03  1.22238371e+04\n",
      "  1.03906255e+03 -2.32763431e+04  1.61072039e+03 -1.53396472e+04\n",
      "  8.51165756e+02  8.23641035e+03  7.06426250e+03  5.44854007e+02\n",
      " -2.31462445e+03 -4.52316916e+03 -3.31454543e+02  2.68399479e+03\n",
      "  4.48525337e+03  1.19775683e+04  4.61774851e+03 -8.65442190e+03\n",
      " -7.94089492e+03  1.00446589e+03 -1.37265425e+03 -5.98944598e+03\n",
      "  9.28273885e+03 -2.92510452e+03  2.88881247e+03  5.94293148e+03\n",
      "  6.92213671e+03 -4.38162436e+03  1.22280657e+04 -2.36003220e+04\n",
      "  8.27293909e+03  9.03320992e+03 -2.72328353e+03 -9.13244597e+03\n",
      " -5.45041951e+03  8.27293909e+03 -1.98872474e+04 -1.98643330e+04\n",
      "  4.85891511e+04 -1.71105099e+04 -1.02339398e+04  1.16386269e+03\n",
      "  1.54554468e+04 -2.40175169e+03 -3.98361799e+03  8.27293909e+03\n",
      " -2.71143033e+03  9.03230425e+01  2.98170940e+03 -6.02847590e+03\n",
      " -2.54227420e+03 -6.27910954e+01 -1.80307990e+04  1.11127269e+04\n",
      " -1.92260664e+03  8.37150086e+03 -3.11833820e+03  8.42704164e+02\n",
      "  2.74481195e+03 -4.81562523e+03  4.52380493e+03  2.00501712e+03\n",
      " -3.35318220e+03 -1.62096626e+04  1.78496479e+04  8.74122198e+02\n",
      "  1.41287276e+03 -3.11866120e+03  3.21454558e+03 -2.38287934e+03\n",
      "  8.60797689e+01 -8.60797689e+01  1.75552833e+04  7.36699770e+03\n",
      "  7.35134583e+03 -8.91825454e+02 -3.66315132e+04  5.24971184e+03\n",
      " -1.30967237e-10  1.63546203e+04 -3.15357160e+03 -7.11064769e+03\n",
      " -6.09040097e+03 -1.34605216e-10  2.34816287e+03  6.30878374e+02\n",
      "  9.00205962e+03  1.05178933e+04 -3.47814268e+03 -3.91266510e+04\n",
      "  2.01057995e+04 -4.66400956e+03 -5.25902960e+03 -1.67262641e+03\n",
      "  7.84031436e+03 -6.63393077e+02  4.41874427e+03 -6.93390950e+03\n",
      " -1.74257782e+04  2.41264684e+03  6.72326733e+03  2.30575194e+03\n",
      "  7.58693831e+03  5.33108325e+03 -6.93390950e+03  3.31618381e+03\n",
      "  9.29627711e+02  2.68809798e+03 -6.93390950e+03  1.03535796e+05\n",
      " -2.27178240e+04 -1.77992797e+04 -3.95363877e+04 -1.65483950e+04\n",
      " -6.93390950e+03 -9.01621464e+04  2.24902537e+04  2.19226793e+04\n",
      "  2.83261122e+04  2.43570107e+04  1.22698035e+03 -2.14567507e+03\n",
      "  9.18694723e+02  9.33063095e+03 -1.47908574e+05 -1.19083775e+05\n",
      "  2.57661718e+05 -5.93612104e+03  2.11728706e+03  3.58072970e+03\n",
      " -2.72932849e+03  2.96743278e+03 -1.05069180e+04  5.07406637e+03\n",
      " -6.56725025e+03  2.09412632e+04 -8.94116128e+03  0.00000000e+00\n",
      " -9.93129662e+03  4.80285783e+03  1.53013916e+04  6.59161384e+03\n",
      " -5.42556064e+03 -9.16769254e+03  1.13973281e+04 -3.17345009e+03\n",
      " -1.03951914e+04 -3.00100964e+03  6.47249517e+03 -1.73837631e+03\n",
      " -2.11374444e+03  3.70204161e+03 -3.32140638e+03  1.10166518e+00\n",
      " -5.32997506e+01  7.00810837e+00  7.23049179e-01  6.84953891e+03\n",
      "  5.76549653e+03  3.21127508e+02  1.05054766e+02  2.08095265e+01\n",
      "  1.57697161e+01  8.76004978e+00 -1.75954453e+00  2.27702997e+01\n",
      "  1.86016905e+01  3.62855292e+01 -2.89606398e+01  2.59265598e+01\n",
      "  1.55449294e+03 -4.28912046e+02  3.61891837e+03  1.83573258e+03\n",
      " -3.59914271e+03 -1.33561283e+04  1.76078340e+03  6.30504997e+03\n",
      " -2.54451454e+01  3.98336461e+03  1.85203802e+01  1.50442989e+01\n",
      "  7.65068726e-01  3.29267675e+00  3.46986251e+01  3.53555935e+01\n",
      "  6.74172478e+02  1.49080919e-01 -4.67090909e+02 -5.46745391e+02]\n"
     ]
    },
    {
     "data": {
      "image/png": "[encoded data removed]",
      "text/plain": [
       "<Figure size 432x288 with 1 Axes>"
      ]
     },
     "metadata": {
      "needs_background": "light"
     },
     "output_type": "display_data"
    },
    {
     "data": {
      "image/png": "[encoded data removed]",
      "text/plain": [
       "<Figure size 432x288 with 1 Axes>"
      ]
     },
     "metadata": {
      "needs_background": "light"
     },
     "output_type": "display_data"
    }
   ],
   "source": [
    "print(modeleReg.intercept_)\n",
    "print(modeleReg.coef_)\n",
    "\n",
    "#calcul du R²\n",
    "modeleReg.score(X,y)\n",
    "\n",
    "RMSE = np.sqrt(((y-modeleReg.predict(X))**2).sum()/len(y))\n",
    "\n",
    "plt.plot(y, modeleReg.predict(X),'.')\n",
    "plt.show()\n",
    "\n",
    "plt.plot(y, y-modeleReg.predict(X),'.')\n",
    "plt.show()"
   ]
  },
  {
   "cell_type": "markdown",
   "metadata": {},
   "source": [
    "del df_train_full['TotalBsmtSF']\n",
    "del df_train_full['GrLivArea']\n",
    "del df_train_full['BsmtHalfBath']\n",
    "del df_train_full['HalfBath']\n",
    "del df_train_full['BedroomAbvGr']\n",
    "del df_train_full['GarageArea']\n",
    "del df_train_full['MoSold']\n",
    "del df_train_full['YrSold']\n",
    "del df_train_full['OpenPorchSF']\n",
    "del df_train_full['EnclosedPorch']"
   ]
  },
  {
   "cell_type": "markdown",
   "metadata": {},
   "source": [
    "del df_test['TotalBsmtSF']\n",
    "del df_test['GrLivArea']\n",
    "del df_test['BsmtHalfBath']\n",
    "del df_test['HalfBath']\n",
    "del df_test['BedroomAbvGr']\n",
    "del df_test['GarageArea']\n",
    "del df_test['MoSold']\n",
    "del df_test['YrSold']\n",
    "del df_test['OpenPorchSF']\n",
    "del df_test['EnclosedPorch']"
   ]
  },
  {
   "cell_type": "markdown",
   "metadata": {},
   "source": [
    "display(df_train_full.head())"
   ]
  },
  {
   "cell_type": "code",
   "execution_count": 12,
   "metadata": {},
   "outputs": [],
   "source": [
    "train_full.to_csv('./csv/train_modif.csv')\n",
    "df_test.to_csv('./csv/test_modif.csv')"
   ]
  },
  {
   "cell_type": "code",
   "execution_count": null,
   "metadata": {},
   "outputs": [],
   "source": []
  }
 ],
 "metadata": {
  "kernelspec": {
   "display_name": "Python 3",
   "language": "python",
   "name": "python3"
  },
  "language_info": {
   "codemirror_mode": {
    "name": "ipython",
    "version": 3
   },
   "file_extension": ".py",
   "mimetype": "text/x-python",
   "name": "python",
   "nbconvert_exporter": "python",
   "pygments_lexer": "ipython3",
   "version": "3.7.4"
  }
 },
 "nbformat": 4,
 "nbformat_minor": 2
}
